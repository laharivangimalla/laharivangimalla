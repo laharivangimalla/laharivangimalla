{
  "nbformat": 4,
  "nbformat_minor": 0,
  "metadata": {
    "colab": {
      "provenance": [],
      "authorship_tag": "ABX9TyOOk7aLP68/pLd/RWWLh/KR",
      "include_colab_link": true
    },
    "kernelspec": {
      "name": "python3",
      "display_name": "Python 3"
    },
    "language_info": {
      "name": "python"
    }
  },
  "cells": [
    {
      "cell_type": "markdown",
      "metadata": {
        "id": "view-in-github",
        "colab_type": "text"
      },
      "source": [
        "<a href=\"https://colab.research.google.com/github/laharivangimalla/laharivangimalla/blob/main/python_basics.ipynb\" target=\"_parent\"><img src=\"https://colab.research.google.com/assets/colab-badge.svg\" alt=\"Open In Colab\"/></a>"
      ]
    },
    {
      "cell_type": "markdown",
      "source": [
        "Write a program to print your name"
      ],
      "metadata": {
        "id": "kdpmTdeSFPtj"
      }
    },
    {
      "cell_type": "code",
      "execution_count": 1,
      "metadata": {
        "colab": {
          "base_uri": "https://localhost:8080/"
        },
        "id": "xDxRu19bFBhE",
        "outputId": "02856877-7936-4a13-b41c-34ff252e5f34"
      },
      "outputs": [
        {
          "output_type": "stream",
          "name": "stdout",
          "text": [
            "lahari\n"
          ]
        }
      ],
      "source": [
        "print(\"lahari\")"
      ]
    },
    {
      "cell_type": "markdown",
      "source": [
        "Write a program for a Single line comment and multi-line comments"
      ],
      "metadata": {
        "id": "WQAtUSoaFOoU"
      }
    },
    {
      "cell_type": "code",
      "source": [
        "a = \"my name is lahari\"\n",
        "print(f\"'{a}'\")\n",
        "a = \"'my name is lahari'\"\n",
        "print(f\"'{a}'\")"
      ],
      "metadata": {
        "colab": {
          "base_uri": "https://localhost:8080/"
        },
        "id": "J-6eyrbbFgdP",
        "outputId": "035fde71-7df0-4572-eefb-005327d81c9b"
      },
      "execution_count": 8,
      "outputs": [
        {
          "output_type": "stream",
          "name": "stdout",
          "text": [
            "'my name is lahari'\n",
            "''my name is lahari''\n"
          ]
        }
      ]
    },
    {
      "cell_type": "markdown",
      "source": [
        "Define variables for different Data Types int, Boolean, char, float, double and print on the\n",
        "Console."
      ],
      "metadata": {
        "id": "yCJtRxm_GMAI"
      }
    },
    {
      "cell_type": "code",
      "source": [
        "# Integer\n",
        "a = 42\n",
        "print(type(a))\n",
        "\n",
        "# Boolean\n",
        "b = True\n",
        "print(type(b))\n",
        "\n",
        "# Character (represented as a string of length 1 in Python)\n",
        "c = 'A'\n",
        "print(type(c))\n",
        "\n",
        "# Float\n",
        "d = 3.14\n",
        "print(type(d))\n",
        "\n",
        "# Double (In Python, float is used for both single and double precision)\n",
        "e = 2.718281828459045\n",
        "print(type(e))\n"
      ],
      "metadata": {
        "colab": {
          "base_uri": "https://localhost:8080/"
        },
        "id": "Pcv7yod3GKio",
        "outputId": "5bcdaa82-c2c6-441b-cfa8-67f20cf9ca4c"
      },
      "execution_count": 11,
      "outputs": [
        {
          "output_type": "stream",
          "name": "stdout",
          "text": [
            "<class 'int'>\n",
            "<class 'bool'>\n",
            "<class 'str'>\n",
            "<class 'float'>\n",
            "<class 'float'>\n"
          ]
        }
      ]
    },
    {
      "cell_type": "markdown",
      "source": [
        "Define the local and Global variables with the same name and print both variables and\n",
        "understand the scope of the variables"
      ],
      "metadata": {
        "id": "xsGTLA83KNWd"
      }
    },
    {
      "cell_type": "code",
      "source": [
        "x = \"my name is lahari\"  # Global variable\n",
        "\n",
        "def my_function():\n",
        "    x = \"my name is lahari\"  # Local variable\n",
        "    print(\"Inside the function:\", x)\n",
        "\n",
        "my_function()  # Call the function to demonstrate local scope\n",
        "print(\"Outside the function:\", x)  # Print the global variable\n"
      ],
      "metadata": {
        "colab": {
          "base_uri": "https://localhost:8080/"
        },
        "id": "5tdJaZ7yGKsw",
        "outputId": "807890ca-c19b-48e5-aed1-01ec7b6d8e60"
      },
      "execution_count": 18,
      "outputs": [
        {
          "output_type": "stream",
          "name": "stdout",
          "text": [
            "Inside the function: my name is lahari\n",
            "Outside the function: my name is lahari\n"
          ]
        }
      ]
    },
    {
      "cell_type": "markdown",
      "source": [],
      "metadata": {
        "id": "K92ReOjDKMtv"
      }
    }
  ]
}