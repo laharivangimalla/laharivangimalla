{
  "nbformat": 4,
  "nbformat_minor": 0,
  "metadata": {
    "colab": {
      "provenance": [],
      "authorship_tag": "ABX9TyOhbaMCaePKrnTHej2F5C+Q",
      "include_colab_link": true
    },
    "kernelspec": {
      "name": "python3",
      "display_name": "Python 3"
    },
    "language_info": {
      "name": "python"
    }
  },
  "cells": [
    {
      "cell_type": "markdown",
      "metadata": {
        "id": "view-in-github",
        "colab_type": "text"
      },
      "source": [
        "<a href=\"https://colab.research.google.com/github/laharivangimalla/laharivangimalla/blob/main/operators.ipynb\" target=\"_parent\"><img src=\"https://colab.research.google.com/assets/colab-badge.svg\" alt=\"Open In Colab\"/></a>"
      ]
    },
    {
      "cell_type": "markdown",
      "source": [
        "Write a function for arithmetic operators(+,-,*,/)"
      ],
      "metadata": {
        "id": "v7bq5nloPk5u"
      }
    },
    {
      "cell_type": "markdown",
      "source": [
        "Write a function for arithmetic operators(+,-,*,/)"
      ],
      "metadata": {
        "id": "rrB2BI1HIkFN"
      }
    },
    {
      "cell_type": "code",
      "execution_count": null,
      "metadata": {
        "colab": {
          "base_uri": "https://localhost:8080/"
        },
        "id": "cGYl5ZpKPRyn",
        "outputId": "96972eb7-f4ca-4801-ad5c-66265ee5a71a"
      },
      "outputs": [
        {
          "output_type": "stream",
          "name": "stdout",
          "text": [
            "addition 25\n",
            "Subtraction 15\n",
            "Multiplication 100\n",
            "Division 4.0\n"
          ]
        }
      ],
      "source": [
        "# Input values\n",
        "a = 20\n",
        "b = 5\n",
        "\n",
        "# Addition\n",
        "c = a + b\n",
        "print(\"addition\",c)\n",
        "\n",
        "# Subtraction\n",
        "d = a - b\n",
        "print(\"Subtraction\",d)\n",
        "\n",
        "# Multiplication\n",
        "e= a * b\n",
        "print(\"Multiplication\",e)\n",
        "\n",
        "# Division\n",
        "f = a / b\n",
        "print(\"Division\",f)\n",
        "\n"
      ]
    },
    {
      "cell_type": "markdown",
      "source": [
        "Write a method for increment and decrement operators(++, --)"
      ],
      "metadata": {
        "id": "moy9ZiJ7PkDK"
      }
    },
    {
      "cell_type": "code",
      "source": [
        "\n",
        "x = 5\n",
        "x += 1\n",
        "print(\"Incremented value:\", x)\n",
        "\n",
        "\n",
        "x = 10\n",
        "x -= 1\n",
        "print(\"Decremented value:\", x)\n"
      ],
      "metadata": {
        "colab": {
          "base_uri": "https://localhost:8080/"
        },
        "id": "eFsho9vlJswJ",
        "outputId": "75529336-d8e7-4179-bb6b-a52e6c4d27a2"
      },
      "execution_count": 3,
      "outputs": [
        {
          "output_type": "stream",
          "name": "stdout",
          "text": [
            "Incremented value: 6\n",
            "Decremented value: 9\n"
          ]
        }
      ]
    },
    {
      "cell_type": "markdown",
      "source": [
        "Write a program to find the two numbers equal or not."
      ],
      "metadata": {
        "id": "chwJr6q4Ma9C"
      }
    },
    {
      "cell_type": "code",
      "source": [
        "a= input(\"enter the first number\")\n",
        "b= input(\"enter the second number\")\n",
        "if a==b:\n",
        "  print(\"equal\")\n",
        "else:\n",
        "  print(\"not equal\")"
      ],
      "metadata": {
        "colab": {
          "base_uri": "https://localhost:8080/"
        },
        "id": "pxMokd3OMdfQ",
        "outputId": "fb3c77a0-5790-40ef-cb3c-b9d69eead200"
      },
      "execution_count": 5,
      "outputs": [
        {
          "output_type": "stream",
          "name": "stdout",
          "text": [
            "enter the first number100\n",
            "enter the second number50\n",
            "not equal\n"
          ]
        }
      ]
    },
    {
      "cell_type": "markdown",
      "source": [
        "Program for relational operators (<,<==, >, >==)"
      ],
      "metadata": {
        "id": "Bo4uvFl7MzPS"
      }
    },
    {
      "cell_type": "code",
      "source": [
        "a = input(\"enter the first number\")\n",
        "b = input(\"enter the second number\")\n",
        "if a<b:\n",
        "  print(\"a is less than b\")\n",
        "elif a>b:\n",
        "  print(\"a is greater than b\")\n",
        "elif a==b:\n",
        "  print(\"a is equal to b\")\n",
        "elif a>=b:\n",
        "  print(\"a is greater than or equal to b\")\n",
        "elif a<=b:\n",
        "  print(\"a is less than or equal to b\")"
      ],
      "metadata": {
        "colab": {
          "base_uri": "https://localhost:8080/"
        },
        "id": "0en8ixm_M6zo",
        "outputId": "a39d2926-ebb5-429c-eac9-81bb1487546d"
      },
      "execution_count": 7,
      "outputs": [
        {
          "output_type": "stream",
          "name": "stdout",
          "text": [
            "enter the first number20\n",
            "enter the second number1\n",
            "a is greater than b\n"
          ]
        }
      ]
    },
    {
      "cell_type": "markdown",
      "source": [
        "Print the smaller and larger number"
      ],
      "metadata": {
        "id": "1Lbouht-OYRz"
      }
    },
    {
      "cell_type": "code",
      "source": [
        "a = input(\"enter the first number\")\n",
        "b= input(\"enter the second number\")\n",
        "if a<b:\n",
        "  print(\"a is larger\")\n",
        "  print(\"b is smaller\")\n",
        "else:\n",
        "  print(\"b is larger\")\n",
        "  print(\"a is smaller\")"
      ],
      "metadata": {
        "colab": {
          "base_uri": "https://localhost:8080/"
        },
        "id": "i5eOuXRGOe1P",
        "outputId": "8fce427b-3547-4068-c175-6b2d4d856fdb"
      },
      "execution_count": 13,
      "outputs": [
        {
          "output_type": "stream",
          "name": "stdout",
          "text": [
            "enter the first number32\n",
            "enter the second number12\n",
            "b is larger\n",
            "a is smaller\n"
          ]
        }
      ]
    }
  ]
}